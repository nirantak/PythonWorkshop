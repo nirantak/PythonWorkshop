{
 "cells": [
  {
   "cell_type": "code",
   "execution_count": 1,
   "metadata": {
    "collapsed": true
   },
   "outputs": [],
   "source": [
    "import numpy as np"
   ]
  },
  {
   "cell_type": "code",
   "execution_count": 4,
   "metadata": {},
   "outputs": [
    {
     "name": "stdout",
     "output_type": "stream",
     "text": [
      "<class 'numpy.ndarray'>\n",
      "1\n"
     ]
    }
   ],
   "source": [
    "a = [1,2,3,5]\n",
    "a=np.array(a)\n",
    "print(type(a))\n",
    "a\n",
    "print(a.ndim)"
   ]
  },
  {
   "cell_type": "code",
   "execution_count": 6,
   "metadata": {},
   "outputs": [
    {
     "name": "stdout",
     "output_type": "stream",
     "text": [
      "[[4 5 6]\n",
      " [7 2 7]]\n",
      "2\n",
      "(2, 3)\n"
     ]
    }
   ],
   "source": [
    "# 2 dimension\n",
    "n6 = np.array([[4,5,6],[7,2,7]])\n",
    "print(n6)\n",
    "print(n6.ndim)\n",
    "print(n6.shape)"
   ]
  },
  {
   "cell_type": "code",
   "execution_count": 7,
   "metadata": {},
   "outputs": [
    {
     "name": "stdout",
     "output_type": "stream",
     "text": [
      "[[[  6   7   2   3]\n",
      "  [  9  10  11  12]\n",
      "  [  0   4   6   5]]\n",
      "\n",
      " [[ 10   4  15 120]\n",
      "  [  0   4   6   5]\n",
      "  [  0   4   6   5]]]\n",
      "3\n",
      "(2, 3, 4)\n",
      "[[  6   7   2   3]\n",
      " [  9  10  11  12]\n",
      " [  0   4   6   5]\n",
      " [ 10   4  15 120]\n",
      " [  0   4   6   5]\n",
      " [  0   4   6   5]]\n"
     ]
    }
   ],
   "source": [
    "# 3 dimensions: array of array of array\n",
    "n7 = np.array([\n",
    "    [\n",
    "        [6,7,2,3],\n",
    "        [9,10,11,12],\n",
    "        [0,4,6,5]\n",
    "    ],\n",
    "    [\n",
    "        [10,4,15,120],\n",
    "        [0,4,6,5],\n",
    "        [0,4,6,5]\n",
    "    ]\n",
    "])\n",
    "print(n7)\n",
    "print(n7.ndim)\n",
    "print(n7.shape)\n",
    "n7.shape=(6,4)\n",
    "print(n7)"
   ]
  },
  {
   "cell_type": "code",
   "execution_count": null,
   "metadata": {
    "collapsed": true
   },
   "outputs": [],
   "source": []
  }
 ],
 "metadata": {
  "kernelspec": {
   "display_name": "Python 3",
   "language": "python",
   "name": "python3"
  },
  "language_info": {
   "codemirror_mode": {
    "name": "ipython",
    "version": 3
   },
   "file_extension": ".py",
   "mimetype": "text/x-python",
   "name": "python",
   "nbconvert_exporter": "python",
   "pygments_lexer": "ipython3",
   "version": "3.6.2"
  }
 },
 "nbformat": 4,
 "nbformat_minor": 2
}
